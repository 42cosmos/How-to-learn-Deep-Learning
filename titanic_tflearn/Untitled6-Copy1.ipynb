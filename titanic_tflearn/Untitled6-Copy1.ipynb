{
 "cells": [
  {
   "cell_type": "code",
   "execution_count": 1,
   "metadata": {},
   "outputs": [
    {
     "data": {
      "text/plain": [
       "['2',\n",
       " '1',\n",
       " 'Cumings, Mrs. John Bradley (Florence Briggs Thayer)',\n",
       " 'female',\n",
       " '38',\n",
       " '1',\n",
       " '0',\n",
       " 'PC 17599',\n",
       " '71.2833',\n",
       " 'C85',\n",
       " 'C']"
      ]
     },
     "execution_count": 1,
     "metadata": {},
     "output_type": "execute_result"
    }
   ],
   "source": [
    "# import statements \n",
    "import tflearn as tflearn\n",
    "import numpy as np\n",
    "import pandas as pd\n",
    "from tflearn.data_utils import load_csv\n",
    "\n",
    "# Download the Titanic dataset\n",
    "data1, labels1 = load_csv('titanic_dataset.csv', target_column=0,\n",
    "                        categorical_labels=True, n_classes=2)\n",
    "data, labels = load_csv('train.csv', target_column=1,\n",
    "                        categorical_labels=True, n_classes=2)\n",
    "# Load CSV file, indicate that the first column represents labels\n",
    "data[1]"
   ]
  },
  {
   "cell_type": "code",
   "execution_count": 2,
   "metadata": {},
   "outputs": [
    {
     "data": {
      "text/plain": [
       "array([  1.        ,   1.        ,  38.        ,   1.        ,\n",
       "         0.        ,  71.28330231], dtype=float32)"
      ]
     },
     "execution_count": 2,
     "metadata": {},
     "output_type": "execute_result"
    }
   ],
   "source": [
    "def preprocess(passengers, columns_to_delete):\n",
    "    # Sort by descending id and delete columns\n",
    "    for column_to_delete in sorted(columns_to_delete, reverse=True):\n",
    "        [passenger.pop(column_to_delete) for passenger in passengers]\n",
    "    for i in range(len(passengers)):\n",
    "        # Converting 'sex' field to float (id is 1 after removing labels column)\n",
    "        passengers[i][1] = 1. if passengers[i][1] == 'female' else 0.\n",
    "        for x in range(len(passengers[i])):\n",
    "            if passengers[i][x] == '':\n",
    "                passengers[i][x] = 0.0\n",
    "    return np.array(passengers, dtype=np.float32)\n",
    "\n",
    "# Ignore 'name' and 'ticket' columns (id 1 & 6 of data array) np.array(passengers, dtype=np.float32)\n",
    "to_ignore=[0, 2, 7, 9, 10]\n",
    "\n",
    "# Preprocess data\n",
    "data = preprocess(data, to_ignore)\n",
    "data[1]"
   ]
  },
  {
   "cell_type": "code",
   "execution_count": 3,
   "metadata": {},
   "outputs": [],
   "source": [
    "# Build neural network\n",
    "net = tflearn.input_data(shape=[None, 6])\n",
    "net = tflearn.fully_connected(net, 32)\n",
    "net = tflearn.fully_connected(net, 32)\n",
    "net = tflearn.fully_connected(net, 2, activation='softmax')\n",
    "net = tflearn.regression(net)\n",
    "\n",
    "\n",
    "\n",
    "\n",
    "\n",
    "\n",
    "\n"
   ]
  },
  {
   "cell_type": "code",
   "execution_count": 4,
   "metadata": {},
   "outputs": [
    {
     "name": "stdout",
     "output_type": "stream",
     "text": [
      "Training Step: 559  | total loss: \u001b[1m\u001b[32m0.44999\u001b[0m\u001b[0m | time: 0.146s\n",
      "| Adam | epoch: 010 | loss: 0.44999 - acc: 0.8168 -- iter: 880/891\n",
      "Training Step: 560  | total loss: \u001b[1m\u001b[32m0.45565\u001b[0m\u001b[0m | time: 0.148s\n",
      "| Adam | epoch: 010 | loss: 0.45565 - acc: 0.8039 -- iter: 891/891\n",
      "--\n"
     ]
    }
   ],
   "source": [
    "# Define model\n",
    "model = tflearn.DNN(net)\n",
    "# Start training (apply gradient descent algorithm)\n",
    "model.fit(data, labels, n_epoch=10, batch_size=16, show_metric=True)\n",
    "\n",
    "\n",
    "# Start training (apply gradient descent algorithm)"
   ]
  },
  {
   "cell_type": "code",
   "execution_count": 6,
   "metadata": {},
   "outputs": [
    {
     "name": "stdout",
     "output_type": "stream",
     "text": [
      "DiCaprio Surviving Rate: 0.11130928248167038\n",
      "Winslet Surviving Rate: 0.7507874965667725\n"
     ]
    }
   ],
   "source": [
    "# Let's create some data for DiCaprio and Winslet\n",
    "dicaprio = [1, 3, 'Jack Dawson', 'male', 19, 0, 0, 'N/A', 5.0000, 'C', 'R']\n",
    "winslet = [1, 1, 'Rose DeWitt Bukater', 'female', 17, 1, 2, 'N/A', 100.0000, 'C', 'R']\n",
    "# Preprocess data\n",
    "dicaprio, winslet = preprocess([dicaprio, winslet], to_ignore)\n",
    "# Predict surviving chances (class 1 results)\n",
    "pred = model.predict([dicaprio, winslet])\n",
    "print(\"DiCaprio Surviving Rate:\", pred[0][1])\n",
    "print(\"Winslet Surviving Rate:\", pred[1][1])"
   ]
  },
  {
   "cell_type": "code",
   "execution_count": null,
   "metadata": {
    "collapsed": true
   },
   "outputs": [],
   "source": []
  }
 ],
 "metadata": {
  "kernelspec": {
   "display_name": "Python 3",
   "language": "python",
   "name": "python3"
  },
  "language_info": {
   "codemirror_mode": {
    "name": "ipython",
    "version": 3
   },
   "file_extension": ".py",
   "mimetype": "text/x-python",
   "name": "python",
   "nbconvert_exporter": "python",
   "pygments_lexer": "ipython3",
   "version": "3.6.1"
  }
 },
 "nbformat": 4,
 "nbformat_minor": 2
}
