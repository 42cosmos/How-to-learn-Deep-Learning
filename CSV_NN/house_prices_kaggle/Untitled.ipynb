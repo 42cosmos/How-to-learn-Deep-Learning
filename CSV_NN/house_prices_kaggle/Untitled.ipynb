{
 "cells": [
  {
   "cell_type": "code",
   "execution_count": null,
   "metadata": {},
   "outputs": [
    {
     "name": "stdout",
     "output_type": "stream",
     "text": [
      "hdf5 is not supported on this machine (please install/reinstall h5py for optimal experience)\n",
      "---------------------------------\n",
      "Run id: IM807R\n",
      "Log directory: /tmp/tflearn_logs/\n",
      "INFO:tensorflow:Summary name StandardError/ (raw) is illegal; using StandardError/__raw_ instead.\n",
      "---------------------------------\n",
      "Training samples: 1168\n",
      "Validation samples: 292\n",
      "--\n"
     ]
    },
    {
     "name": "stderr",
     "output_type": "stream",
     "text": [
      "Exception in thread Thread-6:\n",
      "Traceback (most recent call last):\n",
      "  File \"/Users/ewallner/.brew/Cellar/python3/3.6.1/Frameworks/Python.framework/Versions/3.6/lib/python3.6/threading.py\", line 916, in _bootstrap_inner\n",
      "    self.run()\n",
      "  File \"/Users/ewallner/.brew/Cellar/python3/3.6.1/Frameworks/Python.framework/Versions/3.6/lib/python3.6/threading.py\", line 864, in run\n",
      "    self._target(*self._args, **self._kwargs)\n",
      "  File \"/Users/ewallner/.brew/lib/python3.6/site-packages/tflearn/data_flow.py\", line 187, in fill_feed_dict_queue\n",
      "    data = self.retrieve_data(batch_ids)\n",
      "  File \"/Users/ewallner/.brew/lib/python3.6/site-packages/tflearn/data_flow.py\", line 222, in retrieve_data\n",
      "    utils.slice_array(self.feed_dict[key], batch_ids)\n",
      "  File \"/Users/ewallner/.brew/lib/python3.6/site-packages/tflearn/utils.py\", line 187, in slice_array\n",
      "    return X[start]\n",
      "  File \"/Users/ewallner/.brew/lib/python3.6/site-packages/pandas/core/frame.py\", line 1958, in __getitem__\n",
      "    return self._getitem_array(key)\n",
      "  File \"/Users/ewallner/.brew/lib/python3.6/site-packages/pandas/core/frame.py\", line 2002, in _getitem_array\n",
      "    indexer = self.loc._convert_to_indexer(key, axis=1)\n",
      "  File \"/Users/ewallner/.brew/lib/python3.6/site-packages/pandas/core/indexing.py\", line 1231, in _convert_to_indexer\n",
      "    raise KeyError('%s not in index' % objarr[mask])\n",
      "KeyError: '[1076  346 1285 1113  733 1049   31 1200 1246 1172   26 1402  587 1371  217\\n  889  606 1035  457 1407  146  635  133  376  246 1034  627  142  166  998\\n  290  580  222  646  272   10 1214  298  743  437  480  705 1422  615 1131\\n 1265 1063  493  939  707  762  820 1181 1078 1237  379  325 1060 1188  534\\n  165  871 1056 1073] not in index'\n",
      "\n"
     ]
    }
   ],
   "source": [
    "# This Python 3 environment comes with many helpful analytics libraries installed\n",
    "# It is defined by the kaggle/python docker image: https://github.com/kaggle/docker-python\n",
    "# For example, here's several helpful packages to load in \n",
    "\n",
    "import numpy as np # linear algebra\n",
    "import pandas as pd # data processing, CSV file I/O (e.g. pd.read_csv)\n",
    "\n",
    "# Input data files are available in the \"../input/\" directory.\n",
    "# For example, running this (by clicking run or pressing Shift+Enter) will list the files in the input directory\n",
    "\n",
    "from sklearn.metrics import r2_score\n",
    "import tflearn\n",
    "import tensorflow as tf\n",
    "import seaborn\n",
    "\n",
    "train = pd.read_csv('train.csv')\n",
    "labels = train['SalePrice']\n",
    "\n",
    "test = pd.read_csv('test.csv')\n",
    "\n",
    "data = pd.concat([train,test], ignore_index=True)\n",
    "data = data.drop('SalePrice',1)\n",
    "ids = test['Id']\n",
    "\n",
    "# labels_n1 = labels\n",
    "# labels_n1 = labels_n1.reshape(-1,1)\n",
    "\n",
    "tf.reset_default_graph()\n",
    "r2 = tflearn.R2()\n",
    "net = tflearn.input_data(shape=[None, train.shape[1]])\n",
    "net = tflearn.fully_connected(net, 30, activation='linear')\n",
    "net = tflearn.fully_connected(net, 10, activation = 'linear')\n",
    "net = tflearn.fully_connected(net, 1, activation = 'linear')\n",
    "sgd = tflearn.SGD(learning_rate=0.1, lr_decay = 0.01, decay_step=100)\n",
    "net = tflearn.regression(net, optimizer=sgd, loss='mean_square', metric=r2)\n",
    "model = tflearn.DNN(net)\n",
    "\n",
    "model.fit(train, labels, show_metric=True, validation_set=0.2, shuffle = True, n_epoch=50)\n",
    "\n",
    "preds_DNN = model.predict(test)\n",
    "preds_DNN = np.exp(preds_DNN)\n",
    "preds_DNN = preds_DNN.reshape(-1,)\n",
    "\n",
    "output = pd.DataFrame({\"id\":ids, \"SalePrice\": preds_DNN})\n",
    "output.to_csv('output2.csv', index=False)\n"
   ]
  }
 ],
 "metadata": {
  "kernelspec": {
   "display_name": "Python 3",
   "language": "python",
   "name": "python3"
  },
  "language_info": {
   "codemirror_mode": {
    "name": "ipython",
    "version": 3
   },
   "file_extension": ".py",
   "mimetype": "text/x-python",
   "name": "python",
   "nbconvert_exporter": "python",
   "pygments_lexer": "ipython3",
   "version": "3.6.1"
  }
 },
 "nbformat": 4,
 "nbformat_minor": 2
}
