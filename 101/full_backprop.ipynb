{
 "cells": [
  {
   "cell_type": "code",
   "execution_count": 13,
   "metadata": {},
   "outputs": [
    {
     "name": "stdout",
     "output_type": "stream",
     "text": [
      "Error:0.496410031903\n",
      "l2_delta:  [[ 0.44856632  0.51939863  0.45968497  0.59156505]\n",
      " [ 0.28639589  0.32350963  0.31236398  0.51538526]\n",
      " [ 0.40795614  0.62674606  0.23841622  0.49377636]\n",
      " [ 0.25371248  0.42628115  0.14321233  0.41732254]]\n",
      "Error:0.00858452565325\n",
      "l2_delta:  [[  6.39794692e-01   1.37097918e-01   9.17995038e-01   9.94721470e-01]\n",
      " [  2.05869639e-01   6.35412465e-04   1.84354882e-02   8.85392478e-01]\n",
      " [  9.90358451e-01   8.73947201e-01   2.50298778e-02   7.89794557e-01]\n",
      " [  9.37468194e-01   2.69966253e-02   4.30709360e-05   1.33471161e-01]]\n",
      "Error:0.00578945986251\n",
      "l2_delta:  [[  6.76071621e-01   1.28168162e-01   9.21470647e-01   9.95877626e-01]\n",
      " [  1.88772093e-01   5.21962936e-04   1.76602176e-02   8.90030167e-01]\n",
      " [  9.93442489e-01   8.83064272e-01   2.38921162e-02   8.11403421e-01]\n",
      " [  9.44105922e-01   2.61256437e-02   3.74994886e-05   1.25978836e-01]]\n",
      "Error:0.00462917677677\n",
      "l2_delta:  [[  6.95576716e-01   1.23557365e-01   9.23295634e-01   9.96399633e-01]\n",
      " [  1.80042185e-01   4.68598291e-04   1.72599699e-02   8.92540117e-01]\n",
      " [  9.94691880e-01   8.87830979e-01   2.32798641e-02   8.22207762e-01]\n",
      " [  9.47390338e-01   2.56467836e-02   3.47757006e-05   1.21876247e-01]]\n",
      "Error:0.00395876528027\n",
      "l2_delta:  [[  7.08689508e-01   1.20492398e-01   9.24524509e-01   9.96718877e-01]\n",
      " [  1.74302617e-01   4.35109464e-04   1.69966733e-02   8.94250366e-01]\n",
      " [  9.95406919e-01   8.91002427e-01   2.28667210e-02   8.29236349e-01]\n",
      " [  9.49508404e-01   2.53159032e-02   3.30317968e-05   1.19082563e-01]]\n",
      "Error:0.00351012256786\n",
      "l2_delta:  [[  7.18460543e-01   1.18214929e-01   9.25447158e-01   9.96942016e-01]\n",
      " [  1.70078695e-01   4.11254098e-04   1.68033040e-02   8.95542038e-01]\n",
      " [  9.95883301e-01   8.93354434e-01   2.25576001e-02   8.34373255e-01]\n",
      " [  9.51045498e-01   2.50632132e-02   3.17727474e-05   1.16979665e-01]]\n"
     ]
    }
   ],
   "source": [
    "import numpy as np\n",
    "\n",
    "def nonlin(x,deriv=False):\n",
    "\tif(deriv==True):\n",
    "\t    return x*(1-x)\n",
    "\n",
    "\treturn 1/(1+np.exp(-x))\n",
    "    \n",
    "X = np.array([[0,0,1],\n",
    "            [0,1,1],\n",
    "            [1,0,1],\n",
    "            [1,1,1]])\n",
    "                \n",
    "y = np.array([[0],\n",
    "\t\t\t[1],\n",
    "\t\t\t[1],\n",
    "\t\t\t[0]])\n",
    "\n",
    "np.random.seed(1)\n",
    "\n",
    "# randomly initialize our weights with mean 0\n",
    "syn0 = 2*np.random.random((3,4)) - 1\n",
    "syn1 = 2*np.random.random((4,1)) - 1\n",
    "\n",
    "for j in range(60000):\n",
    "\n",
    "\t# Feed forward through layers 0, 1, and 2\n",
    "    l0 = X\n",
    "    l1 = nonlin(np.dot(l0,syn0))\n",
    "    l2 = nonlin(np.dot(l1,syn1))\n",
    "    \n",
    "    # how much did we miss the target value?\n",
    "    l2_error = y - l2\n",
    "        \n",
    "    # in what direction is the target value?\n",
    "    # were we really sure? if so, don't change too much.\n",
    "    l2_delta = l2_error*nonlin(l2,deriv=True)\n",
    "    # how much did each l1 value contribute to the l2 error (according to the weights)?\n",
    "    l1_error = np.dot(l2_delta, syn1.T)\n",
    "    \n",
    "    # in what direction is the target l1?\n",
    "    # were we really sure? if so, don't change too much.\n",
    "    l1_delta = l1_error * nonlin(l1,deriv=True)\n",
    "    \n",
    "    if (j% 10000) == 0:\n",
    "        print(\"Error:\" + str(np.mean(np.abs(l2_error))))\n",
    "        print(\"l2_delta: \", l1)\n",
    "        #print(\"l2_delta: \", l1.T)\n",
    "    syn1 += np.dot(l1.T, l2_delta)\n",
    "    syn0 += np.dot(l0.T, l1_delta)\n"
   ]
  },
  {
   "cell_type": "code",
   "execution_count": null,
   "metadata": {
    "collapsed": true
   },
   "outputs": [],
   "source": []
  }
 ],
 "metadata": {
  "kernelspec": {
   "display_name": "Python 3",
   "language": "python",
   "name": "python3"
  },
  "language_info": {
   "codemirror_mode": {
    "name": "ipython",
    "version": 3
   },
   "file_extension": ".py",
   "mimetype": "text/x-python",
   "name": "python",
   "nbconvert_exporter": "python",
   "pygments_lexer": "ipython3",
   "version": "3.6.1"
  }
 },
 "nbformat": 4,
 "nbformat_minor": 2
}
