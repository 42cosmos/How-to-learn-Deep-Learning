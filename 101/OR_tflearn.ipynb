{
 "cells": [
  {
   "cell_type": "code",
   "execution_count": 1,
   "metadata": {},
   "outputs": [
    {
     "name": "stdout",
     "output_type": "stream",
     "text": [
      "Training Step: 200  | time: 0.002s\n",
      "| SGD | epoch: 200 | loss: 0.00000 -- iter: 4/4\n",
      "Testing OR operator\n",
      "0 or 0: [[ 0.5]]\n",
      "0 or 1: [[ 0.49310467]]\n",
      "1 or 0: [[ 0.49492344]]\n",
      "1 or 1: [[ 0.48802984]]\n"
     ]
    }
   ],
   "source": [
    "import tflearn\n",
    "\n",
    "# Logical OR operator\n",
    "X = [[0., 0.], [0., 1.], [1., 0.], [1., 1.]]\n",
    "Y_or = [[0.], [1.], [1.], [1.]]\n",
    "\n",
    "# Graph definition\n",
    "g = tflearn.input_data(shape=[None, 2])\n",
    "# Our neuron. We use the sigmoid function to create a binary value.\n",
    "g = tflearn.fully_connected(g, 1, activation='sigmoid', bias=True)\n",
    "g = tflearn.regression(g, optimizer='sgd', learning_rate=2., loss='categorical_crossentropy')\n",
    "# Model training\n",
    "m = tflearn.DNN(g)\n",
    "\n",
    "m.fit(X, Y_or, n_epoch=200, snapshot_epoch=False)\n",
    "print(\"Testing OR operator\")\n",
    "print(\"0 or 0:\", m.predict([[0., 0.]]))\n",
    "print(\"0 or 1:\", m.predict([[0., 1.]]))\n",
    "print(\"1 or 0:\", m.predict([[1., 0.]]))\n",
    "print(\"1 or 1:\", m.predict([[1., 1.]]))"
   ]
  },
  {
   "cell_type": "code",
   "execution_count": null,
   "metadata": {
    "collapsed": true
   },
   "outputs": [],
   "source": []
  }
 ],
 "metadata": {
  "kernelspec": {
   "display_name": "Python 3",
   "language": "python",
   "name": "python3"
  },
  "language_info": {
   "codemirror_mode": {
    "name": "ipython",
    "version": 3
   },
   "file_extension": ".py",
   "mimetype": "text/x-python",
   "name": "python",
   "nbconvert_exporter": "python",
   "pygments_lexer": "ipython3",
   "version": "3.6.1"
  }
 },
 "nbformat": 4,
 "nbformat_minor": 2
}
